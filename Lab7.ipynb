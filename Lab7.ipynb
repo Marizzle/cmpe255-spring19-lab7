{
 "cells": [
  {
   "cell_type": "markdown",
   "metadata": {},
   "source": [
    "# BankData"
   ]
  },
  {
   "cell_type": "code",
   "execution_count": 5,
   "metadata": {},
   "outputs": [
    {
     "name": "stdout",
     "output_type": "stream",
     "text": [
      "-----   Confusion Matrix   -----\n",
      "[[156   2]\n",
      " [  2 115]]\n",
      "----- Classification Report -----\n",
      "              precision    recall  f1-score   support\n",
      "\n",
      "           0       0.99      0.99      0.99       158\n",
      "           1       0.98      0.98      0.98       117\n",
      "\n",
      "   micro avg       0.99      0.99      0.99       275\n",
      "   macro avg       0.99      0.99      0.99       275\n",
      "weighted avg       0.99      0.99      0.99       275\n",
      "\n"
     ]
    }
   ],
   "source": [
    "import numpy as np\n",
    "import matplotlib.pyplot as plt\n",
    "import pandas as pd  \n",
    "\n",
    "# download data set: https://drive.google.com/file/d/13nw-uRXPY8XIZQxKRNZ3yYlho-CYm_Qt/view\n",
    "# info: https://archive.ics.uci.edu/ml/datasets/banknote+authentication\n",
    "\n",
    "# load data\n",
    "bankdata = pd.read_csv(\"./bill_authentication.csv\")  \n",
    "\n",
    "# see the data\n",
    "bankdata.shape  \n",
    "\n",
    "# see head\n",
    "bankdata.head()  \n",
    "\n",
    "# data processing\n",
    "X = bankdata.drop('Class', axis=1)  \n",
    "y = bankdata['Class']  \n",
    "\n",
    "from sklearn.model_selection import train_test_split  \n",
    "X_train, X_test, y_train, y_test = train_test_split(X, y, test_size = 0.20)  \n",
    "\n",
    "# train the SVM\n",
    "from sklearn.svm import SVC  \n",
    "svclassifier = SVC(kernel='linear')  \n",
    "svclassifier.fit(X_train, y_train)  \n",
    "\n",
    "# predictions\n",
    "y_pred = svclassifier.predict(X_test)  \n",
    "\n",
    "# Evaluate model\n",
    "from sklearn.metrics import classification_report, confusion_matrix  \n",
    "print(\"-----   Confusion Matrix   -----\")\n",
    "print(confusion_matrix(y_test,y_pred))\n",
    "print(\"----- Classification Report -----\")\n",
    "print(classification_report(y_test,y_pred))  "
   ]
  },
  {
   "cell_type": "markdown",
   "metadata": {},
   "source": [
    "# Iris DataSet"
   ]
  },
  {
   "cell_type": "code",
   "execution_count": 98,
   "metadata": {},
   "outputs": [],
   "source": [
    "import numpy as np\n",
    "import matplotlib.pyplot as plt\n",
    "import pandas as pd  \n",
    "url = \"https://archive.ics.uci.edu/ml/machine-learning-databases/iris/iris.data\"\n",
    "\n",
    "# Assign colum names to the dataset\n",
    "colnames = ['sepal-length', 'sepal-width', 'petal-length', 'petal-width', 'Class']\n",
    "\n",
    "# Read dataset to pandas dataframe\n",
    "irisdata = pd.read_csv(url, names=colnames) \n",
    "\n",
    "# process\n",
    "X = irisdata.drop('Class', axis=1)\n",
    "y = irisdata['Class']  \n",
    "\n",
    "# train\n",
    "from sklearn.model_selection import train_test_split  \n",
    "X_train, X_test, y_train, y_test = train_test_split(X, y, test_size = 0.20)  "
   ]
  },
  {
   "cell_type": "code",
   "execution_count": 99,
   "metadata": {},
   "outputs": [
    {
     "name": "stdout",
     "output_type": "stream",
     "text": [
      "-----   Confusion Matrix   -----\n",
      "[[ 9  0  1]\n",
      " [ 0 10  1]\n",
      " [ 1  4  4]]\n",
      "----- Classification Report -----\n",
      "                 precision    recall  f1-score   support\n",
      "\n",
      "    Iris-setosa       0.90      0.90      0.90        10\n",
      "Iris-versicolor       0.71      0.91      0.80        11\n",
      " Iris-virginica       0.67      0.44      0.53         9\n",
      "\n",
      "      micro avg       0.77      0.77      0.77        30\n",
      "      macro avg       0.76      0.75      0.74        30\n",
      "   weighted avg       0.76      0.77      0.75        30\n",
      "\n"
     ]
    }
   ],
   "source": [
    "# PolyNomial Kernel\n",
    "from sklearn.pipeline import Pipeline\n",
    "from sklearn.preprocessing import StandardScaler\n",
    "from sklearn.svm import SVC\n",
    "poly_kernel_svm_clf = Pipeline([\n",
    "    (\"scaler\", StandardScaler()),\n",
    "    (\"svm_clf\", SVC(kernel=\"poly\", degree=8))\n",
    "])\n",
    "\n",
    "poly_kernel_svm_clf.fit(X_train, y_train)\n",
    "\n",
    "# predictions\n",
    "y_pred = poly_kernel_svm_clf.predict(X_test)\n",
    "\n",
    "# Evaluate model\n",
    "from sklearn.metrics import classification_report, confusion_matrix\n",
    "print(\"-----   Confusion Matrix   -----\")\n",
    "print(confusion_matrix(y_test,y_pred))\n",
    "print(\"----- Classification Report -----\")\n",
    "print(classification_report(y_test,y_pred))"
   ]
  },
  {
   "cell_type": "code",
   "execution_count": 100,
   "metadata": {},
   "outputs": [
    {
     "name": "stdout",
     "output_type": "stream",
     "text": [
      "-----   Confusion Matrix   -----\n",
      "[[10  0  0]\n",
      " [ 0 11  0]\n",
      " [ 0  0  9]]\n",
      "----- Classification Report -----\n",
      "                 precision    recall  f1-score   support\n",
      "\n",
      "    Iris-setosa       1.00      1.00      1.00        10\n",
      "Iris-versicolor       1.00      1.00      1.00        11\n",
      " Iris-virginica       1.00      1.00      1.00         9\n",
      "\n",
      "      micro avg       1.00      1.00      1.00        30\n",
      "      macro avg       1.00      1.00      1.00        30\n",
      "   weighted avg       1.00      1.00      1.00        30\n",
      "\n"
     ]
    }
   ],
   "source": [
    "# Gaussian Kernel\n",
    "from sklearn.pipeline import Pipeline\n",
    "from sklearn.preprocessing import StandardScaler\n",
    "from sklearn.svm import SVC\n",
    "rbf_kernel_svm_clf = Pipeline([\n",
    "    (\"scaler\", StandardScaler()),\n",
    "    (\"svm_clf\", SVC(kernel=\"rbf\"))\n",
    "])\n",
    "\n",
    "\n",
    "rbf_kernel_svm_clf.fit(X_train, y_train)\n",
    "\n",
    "# predictions\n",
    "y_pred = rbf_kernel_svm_clf.predict(X_test)  \n",
    "\n",
    "# Evaluate model\n",
    "from sklearn.metrics import classification_report, confusion_matrix  \n",
    "print(\"-----   Confusion Matrix   -----\")\n",
    "print(confusion_matrix(y_test,y_pred))\n",
    "print(\"----- Classification Report -----\")\n",
    "print(classification_report(y_test,y_pred))"
   ]
  },
  {
   "cell_type": "code",
   "execution_count": 101,
   "metadata": {},
   "outputs": [
    {
     "name": "stdout",
     "output_type": "stream",
     "text": [
      "-----   Confusion Matrix   -----\n",
      "[[10  0  0]\n",
      " [ 0 10  1]\n",
      " [ 0  0  9]]\n",
      "----- Classification Report -----\n",
      "                 precision    recall  f1-score   support\n",
      "\n",
      "    Iris-setosa       1.00      1.00      1.00        10\n",
      "Iris-versicolor       1.00      0.91      0.95        11\n",
      " Iris-virginica       0.90      1.00      0.95         9\n",
      "\n",
      "      micro avg       0.97      0.97      0.97        30\n",
      "      macro avg       0.97      0.97      0.97        30\n",
      "   weighted avg       0.97      0.97      0.97        30\n",
      "\n"
     ]
    }
   ],
   "source": [
    "# Sigmoid Kernel\n",
    "from sklearn.pipeline import Pipeline\n",
    "from sklearn.preprocessing import StandardScaler\n",
    "from sklearn.svm import SVC\n",
    "sigmoid_kernel_svm_clf = Pipeline([\n",
    "    (\"scaler\", StandardScaler()),\n",
    "    (\"svm_clf\", SVC(kernel=\"sigmoid\"))\n",
    "])\n",
    "\n",
    "\n",
    "sigmoid_kernel_svm_clf.fit(X_train, y_train)\n",
    "\n",
    "# predictions\n",
    "y_pred = sigmoid_kernel_svm_clf.predict(X_test)  \n",
    "\n",
    "# Evaluate model\n",
    "from sklearn.metrics import classification_report, confusion_matrix  \n",
    "print(\"-----   Confusion Matrix   -----\")\n",
    "print(confusion_matrix(y_test,y_pred))\n",
    "print(\"----- Classification Report -----\")\n",
    "print(classification_report(y_test,y_pred))"
   ]
  },
  {
   "cell_type": "markdown",
   "metadata": {},
   "source": [
    "# Plots (using 2 features because its hard to make 4 dimmensional graphs)"
   ]
  },
  {
   "cell_type": "code",
   "execution_count": 102,
   "metadata": {},
   "outputs": [
    {
     "name": "stderr",
     "output_type": "stream",
     "text": [
      "/usr/local/lib/python3.7/site-packages/ipykernel_launcher.py:21: FutureWarning: Method .as_matrix will be removed in a future version. Use .values instead.\n",
      "/usr/local/lib/python3.7/site-packages/ipykernel_launcher.py:22: FutureWarning: Method .as_matrix will be removed in a future version. Use .values instead.\n"
     ]
    }
   ],
   "source": [
    "import numpy as np\n",
    "import matplotlib.pyplot as plt\n",
    "import pandas as pd  \n",
    "url = \"https://archive.ics.uci.edu/ml/machine-learning-databases/iris/iris.data\"\n",
    "\n",
    "# Assign colum names to the dataset\n",
    "colnames = ['sepal-length', 'sepal-width', 'petal-length', 'petal-width', 'Class']\n",
    "\n",
    "# Read dataset to pandas dataframe\n",
    "irisdata = pd.read_csv(url, names=colnames) \n",
    "\n",
    "# process\n",
    "def label(input):\n",
    "    if input =='Iris-versicolor':\n",
    "        return 1\n",
    "    elif input == 'Iris-setosa':\n",
    "        return 2\n",
    "    else:\n",
    "        return 3\n",
    "\n",
    "X = irisdata.drop('Class', axis=1).drop('petal-length', axis=1).drop('petal-width', axis=1).as_matrix()\n",
    "y = irisdata['Class'].as_matrix()\n",
    "y = list(map(label, y))\n",
    "\n",
    "# train\n",
    "from sklearn.model_selection import train_test_split  \n",
    "X_train, X_test, y_train, y_test = train_test_split(X, y, test_size = 0.20)  "
   ]
  },
  {
   "cell_type": "code",
   "execution_count": 103,
   "metadata": {},
   "outputs": [
    {
     "name": "stdout",
     "output_type": "stream",
     "text": [
      "-----   Confusion Matrix   -----\n",
      "[[ 2  0 12]\n",
      " [ 0  4  7]\n",
      " [ 0  0  5]]\n",
      "----- Classification Report -----\n",
      "              precision    recall  f1-score   support\n",
      "\n",
      "           1       1.00      0.14      0.25        14\n",
      "           2       1.00      0.36      0.53        11\n",
      "           3       0.21      1.00      0.34         5\n",
      "\n",
      "   micro avg       0.37      0.37      0.37        30\n",
      "   macro avg       0.74      0.50      0.38        30\n",
      "weighted avg       0.87      0.37      0.37        30\n",
      "\n"
     ]
    }
   ],
   "source": [
    "# PolyNomial Kernel\n",
    "from sklearn.pipeline import Pipeline\n",
    "from sklearn.preprocessing import StandardScaler\n",
    "from sklearn.svm import SVC\n",
    "poly_kernel_svm_clf = Pipeline([\n",
    "    (\"scaler\", StandardScaler()),\n",
    "    (\"svm_clf\", SVC(kernel=\"poly\", degree=8))\n",
    "])\n",
    "\n",
    "\n",
    "poly_kernel_svm_clf.fit(X_train, y_train)\n",
    "\n",
    "# predictions\n",
    "y_pred = poly_kernel_svm_clf.predict(X_test)  \n",
    "\n",
    "# Evaluate model\n",
    "from sklearn.metrics import classification_report, confusion_matrix  \n",
    "print(\"-----   Confusion Matrix   -----\")\n",
    "print(confusion_matrix(y_test,y_pred))\n",
    "print(\"----- Classification Report -----\")\n",
    "print(classification_report(y_test,y_pred))"
   ]
  },
  {
   "cell_type": "code",
   "execution_count": 104,
   "metadata": {},
   "outputs": [
    {
     "name": "stdout",
     "output_type": "stream",
     "text": [
      "-----   Confusion Matrix   -----\n",
      "[[ 7  0  7]\n",
      " [ 0 11  0]\n",
      " [ 1  0  4]]\n",
      "----- Classification Report -----\n",
      "              precision    recall  f1-score   support\n",
      "\n",
      "           1       0.88      0.50      0.64        14\n",
      "           2       1.00      1.00      1.00        11\n",
      "           3       0.36      0.80      0.50         5\n",
      "\n",
      "   micro avg       0.73      0.73      0.73        30\n",
      "   macro avg       0.75      0.77      0.71        30\n",
      "weighted avg       0.84      0.73      0.75        30\n",
      "\n"
     ]
    }
   ],
   "source": [
    "# Gaussian Kernel\n",
    "from sklearn.pipeline import Pipeline\n",
    "from sklearn.preprocessing import StandardScaler\n",
    "from sklearn.svm import SVC\n",
    "rbf_kernel_svm_clf = Pipeline([\n",
    "    (\"scaler\", StandardScaler()),\n",
    "    (\"svm_clf\", SVC(kernel=\"rbf\"))\n",
    "])\n",
    "\n",
    "\n",
    "rbf_kernel_svm_clf.fit(X_train, y_train)\n",
    "\n",
    "# predictions\n",
    "y_pred = rbf_kernel_svm_clf.predict(X_test)  \n",
    "\n",
    "# Evaluate model\n",
    "from sklearn.metrics import classification_report, confusion_matrix  \n",
    "print(\"-----   Confusion Matrix   -----\")\n",
    "print(confusion_matrix(y_test,y_pred))\n",
    "print(\"----- Classification Report -----\")\n",
    "print(classification_report(y_test,y_pred))"
   ]
  },
  {
   "cell_type": "code",
   "execution_count": 105,
   "metadata": {},
   "outputs": [
    {
     "name": "stdout",
     "output_type": "stream",
     "text": [
      "-----   Confusion Matrix   -----\n",
      "[[12  0  2]\n",
      " [ 1 10  0]\n",
      " [ 3  0  2]]\n",
      "----- Classification Report -----\n",
      "              precision    recall  f1-score   support\n",
      "\n",
      "           1       0.75      0.86      0.80        14\n",
      "           2       1.00      0.91      0.95        11\n",
      "           3       0.50      0.40      0.44         5\n",
      "\n",
      "   micro avg       0.80      0.80      0.80        30\n",
      "   macro avg       0.75      0.72      0.73        30\n",
      "weighted avg       0.80      0.80      0.80        30\n",
      "\n"
     ]
    }
   ],
   "source": [
    "# Sigmoid Kernel\n",
    "from sklearn.pipeline import Pipeline\n",
    "from sklearn.preprocessing import StandardScaler\n",
    "from sklearn.svm import SVC\n",
    "sigmoid_kernel_svm_clf = Pipeline([\n",
    "    (\"scaler\", StandardScaler()),\n",
    "    (\"svm_clf\", SVC(kernel=\"sigmoid\"))\n",
    "])\n",
    "\n",
    "\n",
    "sigmoid_kernel_svm_clf.fit(X_train, y_train)\n",
    "\n",
    "# predictions\n",
    "y_pred = sigmoid_kernel_svm_clf.predict(X_test)  \n",
    "\n",
    "# Evaluate model\n",
    "from sklearn.metrics import classification_report, confusion_matrix  \n",
    "print(\"-----   Confusion Matrix   -----\")\n",
    "print(confusion_matrix(y_test,y_pred))\n",
    "print(\"----- Classification Report -----\")\n",
    "print(classification_report(y_test,y_pred))"
   ]
  },
  {
   "cell_type": "code",
   "execution_count": 106,
   "metadata": {},
   "outputs": [],
   "source": [
    "def plot(clf, title):\n",
    "\n",
    "    def make_meshgrid(x, y, h=.02):\n",
    "        x_min, x_max = x.min() - 1, x.max() + 1\n",
    "        y_min, y_max = y.min() - 1, y.max() + 1\n",
    "        xx, yy = np.meshgrid(np.arange(x_min, x_max, h), np.arange(y_min, y_max, h))\n",
    "        return xx, yy\n",
    "\n",
    "    def plot_contours(ax, clf, xx, yy, **params):\n",
    "        Z = clf.predict(np.c_[xx.ravel(), yy.ravel()])\n",
    "        Z = Z.reshape(xx.shape)\n",
    "        out = ax.contourf(xx, yy, Z, **params)\n",
    "        return out\n",
    "\n",
    "    fig, ax = plt.subplots()\n",
    "    # title for the plots\n",
    "    # Set-up grid for plotting.\n",
    "    X0, X1 = X[:, 0], X[:, 1]\n",
    "    xx, yy = make_meshgrid(X0, X1)\n",
    "    plot_contours(ax, clf, xx, yy, cmap=plt.cm.coolwarm, alpha=0.8)\n",
    "    ax.scatter(X0, X1, c=y, cmap=plt.cm.coolwarm, s=20, edgecolors='k')\n",
    "    ax.set_ylabel('Sepal-Width')\n",
    "    ax.set_xlabel('Sepal-Length')\n",
    "    ax.set_xticks(())\n",
    "    ax.set_yticks(())\n",
    "    ax.set_title(title)\n",
    "    ax.legend()\n",
    "    plt.show()"
   ]
  },
  {
   "cell_type": "code",
   "execution_count": 107,
   "metadata": {},
   "outputs": [
    {
     "name": "stderr",
     "output_type": "stream",
     "text": [
      "No handles with labels found to put in legend.\n"
     ]
    },
    {
     "data": {
      "image/png": "[encoded data removed]",
      "text/plain": [
       "<Figure size 432x288 with 1 Axes>"
      ]
     },
     "metadata": {},
     "output_type": "display_data"
    }
   ],
   "source": [
    "plot(poly_kernel_svm_clf, 'Decision Surface of Polynomial Kernel SVM')"
   ]
  },
  {
   "cell_type": "code",
   "execution_count": 108,
   "metadata": {},
   "outputs": [
    {
     "name": "stderr",
     "output_type": "stream",
     "text": [
      "No handles with labels found to put in legend.\n"
     ]
    },
    {
     "data": {
      "image/png": "[encoded data removed]",
      "text/plain": [
       "<Figure size 432x288 with 1 Axes>"
      ]
     },
     "metadata": {},
     "output_type": "display_data"
    }
   ],
   "source": [
    "plot(rbf_kernel_svm_clf, 'Decision Surface of Gaussian Kernel SVM')"
   ]
  },
  {
   "cell_type": "code",
   "execution_count": 109,
   "metadata": {},
   "outputs": [
    {
     "name": "stderr",
     "output_type": "stream",
     "text": [
      "No handles with labels found to put in legend.\n"
     ]
    },
    {
     "data": {
      "image/png": "[encoded data removed]",
      "text/plain": [
       "<Figure size 432x288 with 1 Axes>"
      ]
     },
     "metadata": {},
     "output_type": "display_data"
    }
   ],
   "source": [
    "plot(sigmoid_kernel_svm_clf, 'Decision Surface of Sigmoid Kernel SVM')"
   ]
  },
  {
   "cell_type": "code",
   "execution_count": null,
   "metadata": {},
   "outputs": [],
   "source": []
  },
  {
   "cell_type": "code",
   "execution_count": null,
   "metadata": {},
   "outputs": [],
   "source": []
  }
 ],
 "metadata": {
  "kernelspec": {
   "display_name": "Python 3",
   "language": "python",
   "name": "python3"
  },
  "language_info": {
   "codemirror_mode": {
    "name": "ipython",
    "version": 3
   },
   "file_extension": ".py",
   "mimetype": "text/x-python",
   "name": "python",
   "nbconvert_exporter": "python",
   "pygments_lexer": "ipython3",
   "version": "3.7.0"
  }
 },
 "nbformat": 4,
 "nbformat_minor": 2
}
